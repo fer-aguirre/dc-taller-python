{
 "cells": [
  {
   "cell_type": "markdown",
   "metadata": {},
   "source": [
    "### Nombres de variables\n",
    "- Un nombre de variable debe empezar por una letra o por el carácter de subrayado\n",
    "- No pueden empezar con un número\n",
    "- Sólo pueden contener caracteres alfanuméricos y guiones bajos (A-z, 0-9 y _ )\n",
    "- Hay distinción entre mayúsculas y minúsculas en los nombre de variables (Age, AGE y age son variables diferentes)"
   ]
  },
  {
   "cell_type": "code",
   "execution_count": 6,
   "metadata": {},
   "outputs": [],
   "source": [
    "# Snake Case\n",
    "mi_variable_nombre = 'fer'"
   ]
  },
  {
   "cell_type": "code",
   "execution_count": 4,
   "metadata": {},
   "outputs": [],
   "source": [
    "# Camel Case\n",
    "miVariableNombre = 'fer'"
   ]
  },
  {
   "cell_type": "code",
   "execution_count": 5,
   "metadata": {},
   "outputs": [],
   "source": [
    "# Pascal Case\n",
    "MiVariableNombre = 'fer'"
   ]
  },
  {
   "cell_type": "markdown",
   "metadata": {},
   "source": [
    "### Loops: iterar sobre una secuencia (una lista, una tupla, un diccionario, un conjunto o una cadena)"
   ]
  },
  {
   "cell_type": "code",
   "execution_count": 7,
   "metadata": {},
   "outputs": [],
   "source": [
    "variable_cadena = 'python'"
   ]
  },
  {
   "cell_type": "code",
   "execution_count": 9,
   "metadata": {},
   "outputs": [
    {
     "name": "stdout",
     "output_type": "stream",
     "text": [
      "python\n",
      "python\n",
      "python\n",
      "python\n",
      "python\n",
      "python\n"
     ]
    }
   ],
   "source": [
    "for caracter in variable_cadena:\n",
    "    print(variable_cadena)"
   ]
  },
  {
   "cell_type": "code",
   "execution_count": 10,
   "metadata": {},
   "outputs": [
    {
     "name": "stdout",
     "output_type": "stream",
     "text": [
      "p\n",
      "y\n",
      "t\n",
      "h\n",
      "o\n",
      "n\n"
     ]
    }
   ],
   "source": [
    "for caracter in variable_cadena:\n",
    "    print(caracter)"
   ]
  },
  {
   "cell_type": "code",
   "execution_count": 11,
   "metadata": {},
   "outputs": [
    {
     "name": "stdout",
     "output_type": "stream",
     "text": [
      "p\n",
      "y\n",
      "t\n",
      "h\n",
      "o\n",
      "n\n"
     ]
    }
   ],
   "source": [
    "for x in variable_cadena:\n",
    "    print(x)"
   ]
  },
  {
   "cell_type": "markdown",
   "metadata": {},
   "source": [
    "### `break` statement: detiene un bucle"
   ]
  },
  {
   "cell_type": "code",
   "execution_count": 13,
   "metadata": {},
   "outputs": [],
   "source": [
    "frutas = ['melón', 'pera', 'kiwi', 'aguacate', 'guanábana']"
   ]
  },
  {
   "cell_type": "code",
   "execution_count": 15,
   "metadata": {},
   "outputs": [
    {
     "name": "stdout",
     "output_type": "stream",
     "text": [
      "melón\n",
      "pera\n",
      "kiwi\n"
     ]
    }
   ],
   "source": [
    "for fruta in frutas:\n",
    "    print(fruta)\n",
    "    if fruta == 'kiwi':\n",
    "        break"
   ]
  },
  {
   "cell_type": "code",
   "execution_count": 17,
   "metadata": {},
   "outputs": [
    {
     "name": "stdout",
     "output_type": "stream",
     "text": [
      "melón\n",
      "pera\n"
     ]
    }
   ],
   "source": [
    "for fruta in frutas:\n",
    "    print(fruta)\n",
    "    if fruta != 'melón':\n",
    "        break"
   ]
  },
  {
   "cell_type": "markdown",
   "metadata": {},
   "source": [
    "### `continue` statement: detiene el bucle en curso y continúa con la siguiente secuencia"
   ]
  },
  {
   "cell_type": "code",
   "execution_count": 19,
   "metadata": {},
   "outputs": [
    {
     "name": "stdout",
     "output_type": "stream",
     "text": [
      "melón\n",
      "pera\n",
      "aguacate\n",
      "guanábana\n"
     ]
    }
   ],
   "source": [
    "for fruta in frutas:\n",
    "    if fruta == 'kiwi':\n",
    "        continue\n",
    "    print(fruta)"
   ]
  },
  {
   "cell_type": "code",
   "execution_count": 20,
   "metadata": {},
   "outputs": [
    {
     "name": "stdout",
     "output_type": "stream",
     "text": [
      "kiwi\n"
     ]
    }
   ],
   "source": [
    "for fruta in frutas:\n",
    "    if fruta != 'kiwi':\n",
    "        continue\n",
    "    print(fruta)"
   ]
  },
  {
   "cell_type": "markdown",
   "metadata": {},
   "source": [
    "### `else` statement: ejecutar código sólo si se cumple una determinada condición"
   ]
  },
  {
   "cell_type": "code",
   "execution_count": 22,
   "metadata": {},
   "outputs": [
    {
     "name": "stdout",
     "output_type": "stream",
     "text": [
      "0\n",
      "1\n",
      "2\n",
      "3\n",
      "4\n",
      "5\n"
     ]
    }
   ],
   "source": [
    "for x in range(0, 6):\n",
    "    print(x)"
   ]
  },
  {
   "cell_type": "code",
   "execution_count": 23,
   "metadata": {},
   "outputs": [
    {
     "name": "stdout",
     "output_type": "stream",
     "text": [
      "0\n",
      "1\n",
      "2\n",
      "3\n",
      "4\n",
      "5\n"
     ]
    }
   ],
   "source": [
    "for x in range(6):\n",
    "    print(x)"
   ]
  },
  {
   "cell_type": "code",
   "execution_count": 24,
   "metadata": {},
   "outputs": [
    {
     "name": "stdout",
     "output_type": "stream",
     "text": [
      "0\n",
      "1\n",
      "2\n",
      "3\n",
      "4\n",
      "5\n",
      "Ya terminé\n"
     ]
    }
   ],
   "source": [
    "for x in range(6):\n",
    "    print(x)\n",
    "else:\n",
    "    print('Ya terminé')"
   ]
  },
  {
   "cell_type": "code",
   "execution_count": 25,
   "metadata": {},
   "outputs": [
    {
     "name": "stdout",
     "output_type": "stream",
     "text": [
      "Esta fruta no es kiwi\n",
      "Esta fruta no es kiwi\n",
      "kiwi\n",
      "Esta fruta no es kiwi\n",
      "Esta fruta no es kiwi\n"
     ]
    }
   ],
   "source": [
    "for fruta in frutas:\n",
    "    if fruta == 'kiwi':\n",
    "        print(fruta)\n",
    "    else:\n",
    "        print('Esta fruta no es kiwi')"
   ]
  },
  {
   "cell_type": "markdown",
   "metadata": {},
   "source": [
    "### Bucles anidados (nested loops)"
   ]
  },
  {
   "cell_type": "code",
   "execution_count": 26,
   "metadata": {},
   "outputs": [],
   "source": [
    "verduras = ['jitomate', 'brocoli', 'pimiento']\n",
    "colores = ['rojo', 'verde', 'amarillo']"
   ]
  },
  {
   "cell_type": "code",
   "execution_count": 27,
   "metadata": {},
   "outputs": [
    {
     "name": "stdout",
     "output_type": "stream",
     "text": [
      "jitomate rojo\n",
      "jitomate verde\n",
      "jitomate amarillo\n",
      "brocoli rojo\n",
      "brocoli verde\n",
      "brocoli amarillo\n",
      "pimiento rojo\n",
      "pimiento verde\n",
      "pimiento amarillo\n"
     ]
    }
   ],
   "source": [
    "for verdura in verduras:\n",
    "    for color in colores:\n",
    "        print(verdura, color)"
   ]
  },
  {
   "cell_type": "code",
   "execution_count": 42,
   "metadata": {},
   "outputs": [
    {
     "name": "stdout",
     "output_type": "stream",
     "text": [
      "jitomate rojo\n",
      "brocoli verde\n",
      "pimiento amarillo\n"
     ]
    }
   ],
   "source": [
    "for verdura in verduras:\n",
    "    for i in range(len(colores)):\n",
    "        print(verduras[i], colores[i])\n",
    "    break"
   ]
  },
  {
   "cell_type": "code",
   "execution_count": 44,
   "metadata": {},
   "outputs": [
    {
     "name": "stdout",
     "output_type": "stream",
     "text": [
      "jitomate rojo\n",
      "brocoli verde\n",
      "pimiento amarillo\n"
     ]
    }
   ],
   "source": [
    "for i in range(len(verduras)):\n",
    "    print(verduras[i], colores[i])"
   ]
  },
  {
   "cell_type": "markdown",
   "metadata": {},
   "source": [
    "### Librerías en Python "
   ]
  },
  {
   "cell_type": "code",
   "execution_count": 52,
   "metadata": {},
   "outputs": [],
   "source": [
    "import random"
   ]
  },
  {
   "cell_type": "code",
   "execution_count": 53,
   "metadata": {},
   "outputs": [
    {
     "name": "stdout",
     "output_type": "stream",
     "text": [
      "10\n",
      "5\n",
      "6\n",
      "7\n",
      "5\n"
     ]
    }
   ],
   "source": [
    "# El método 'randint()' devuelve un elemento de manera aleatoria dentro de un rango especificado, incluyéndolos\n",
    "for i in range(5):\n",
    "    print(random.randint(5, 10))"
   ]
  },
  {
   "cell_type": "markdown",
   "metadata": {},
   "source": [
    "### [Lista de módulos incorporados en Python](https://docs.python.org/3/library/)"
   ]
  },
  {
   "cell_type": "markdown",
   "metadata": {},
   "source": [
    "### Comando para instalar paquetes en python:\n",
    "- `pip install package_name`\n",
    "- `pip3 install package_name`\n",
    "- `python -m pip install package_name`\n",
    "- `python3 -m pip install package_name`"
   ]
  }
 ],
 "metadata": {
  "kernelspec": {
   "display_name": "Python 3.8.10 64-bit",
   "language": "python",
   "name": "python3"
  },
  "language_info": {
   "codemirror_mode": {
    "name": "ipython",
    "version": 3
   },
   "file_extension": ".py",
   "mimetype": "text/x-python",
   "name": "python",
   "nbconvert_exporter": "python",
   "pygments_lexer": "ipython3",
   "version": "3.8.10"
  },
  "orig_nbformat": 4,
  "vscode": {
   "interpreter": {
    "hash": "916dbcbb3f70747c44a77c7bcd40155683ae19c65e1c03b4aa3499c5328201f1"
   }
  }
 },
 "nbformat": 4,
 "nbformat_minor": 2
}
